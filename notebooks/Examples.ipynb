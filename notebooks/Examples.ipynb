{
 "cells": [
  {
   "cell_type": "markdown",
   "id": "5547f223",
   "metadata": {},
   "source": [
    "# Examples"
   ]
  },
  {
   "cell_type": "markdown",
   "id": "f533b0b9-54dc-4bab-b2c1-2f640eec4954",
   "metadata": {
    "tags": []
   },
   "source": [
    "## For a simple, single use connection"
   ]
  },
  {
   "cell_type": "code",
   "execution_count": null,
   "id": "06548e38-02dc-4c7c-ba20-e06c7a844758",
   "metadata": {
    "tags": []
   },
   "outputs": [],
   "source": [
    "import serial\n",
    "\n",
    "from pyipcmini.functions import IonPump\n",
    "\n",
    "\n",
    "# Initialize the serial connection.\n",
    "PORT = \"/dev/ttyUSB0\"  # COM1 in windows\n",
    "BAUD = 9600\n",
    "serial_conn = serial.Serial(port=PORT, baudrate=BAUD, parity=serial.PARITY_NONE, stopbits=serial.STOPBITS_ONE, bytesize=serial.EIGHTBITS)\n",
    "serial_conn.timeout = 1\n",
    "serial_conn.flushInput()\n",
    "\n",
    "# Initialize the pump object.\n",
    "pump = IonPump(serial_connection=serial_conn)\n",
    "\n",
    "# Measure pressure and current.\n",
    "measured_pressure = pump.read_functions.read_pressure()\n",
    "measured_current = pump.read_functions.read_current_measured()\n",
    "print(f\"Pressure is {measured_pressure:.2E} mBar and current {measured_current:.2E} A.\")\n",
    "\n",
    "# Close serial connection.\n",
    "serial_conn.close()"
   ]
  },
  {
   "cell_type": "markdown",
   "id": "5a2fc3e1-c704-4aeb-aece-566e48d9112a",
   "metadata": {
    "tags": []
   },
   "source": [
    "## Same, using labels"
   ]
  },
  {
   "cell_type": "markdown",
   "id": "97082512-5b37-4dcd-92be-a5bb0067febb",
   "metadata": {},
   "source": [
    "Instead of using the functions directly, you can also use the function labels as provided by the output of the functions IonPump.list_read_function_labels and IonPump.list_set_function_labels."
   ]
  },
  {
   "cell_type": "markdown",
   "id": "e52fe1f4-32b6-4f1e-94fc-4290b6c4f542",
   "metadata": {},
   "source": [
    "The list of available read functions keys:"
   ]
  },
  {
   "cell_type": "code",
   "execution_count": null,
   "id": "1eeebc14-d981-4311-bb63-3d267fc0d2d0",
   "metadata": {},
   "outputs": [],
   "source": [
    "[\n",
    "    \"Mode\",\n",
    "    \"HV ON/OFF\",\n",
    "    \"Baud rate\",\n",
    "    \"Status\",\n",
    "    \"Error code\",\n",
    "    \"Model\",\n",
    "    \"Serial number\",\n",
    "    \"RS485 address\",\n",
    "    \"Serial type\",\n",
    "    \"Unit pressure\",\n",
    "    \"Autostart\",\n",
    "    \"Protect\",\n",
    "    \"Fixed/step\",\n",
    "    \"Device number\",\n",
    "    \"Max power\",\n",
    "    \"V target\",\n",
    "    \"I protect\",\n",
    "    \"Set point\",\n",
    "    \"Temperature power section\",\n",
    "    \"Temperature internal controller\",\n",
    "    \"Status set point\",\n",
    "    \"V measured\",\n",
    "    \"I measured\",\n",
    "    \"Pressure\",\n",
    "    \"Label\",\n",
    "]"
   ]
  },
  {
   "cell_type": "markdown",
   "id": "d09e7a87-9400-404c-89de-a9c258c1c427",
   "metadata": {},
   "source": [
    "The list of available set functions keys:"
   ]
  },
  {
   "cell_type": "code",
   "execution_count": null,
   "id": "f6bbaf2c-ae3f-4bd6-87c0-f57c656edcb2",
   "metadata": {},
   "outputs": [],
   "source": [
    "[\n",
    "    \"Mode\",\n",
    "    \"HV ON/OFF\",\n",
    "    \"Baud rate\",\n",
    "    \"RS485 address\",\n",
    "    \"Serial type\",\n",
    "    \"Unit pressure\",\n",
    "    \"Autostart\",\n",
    "    \"Protect\",\n",
    "    \"Fixed/step\",\n",
    "    \"Device number\",\n",
    "    \"Max power\",\n",
    "    \"V target\",\n",
    "    \"I protect\",\n",
    "    \"Set point\",\n",
    "    \"Label\",\n",
    "]"
   ]
  },
  {
   "cell_type": "markdown",
   "id": "70c64cdd-d40f-4f5e-8f6c-5bea0412278c",
   "metadata": {},
   "source": [
    "Example for using those lists:"
   ]
  },
  {
   "cell_type": "code",
   "execution_count": null,
   "id": "aca66abc-dea7-4533-aef7-c38422c08b8a",
   "metadata": {},
   "outputs": [],
   "source": [
    "import serial\n",
    "\n",
    "from pyipcmini.functions import IonPump\n",
    "\n",
    "\n",
    "# Initialize the serial connection.\n",
    "PORT = \"/dev/ttyUSB0\"  # COM1 in windows\n",
    "BAUD = 9600\n",
    "serial_conn = serial.Serial(port=PORT, baudrate=BAUD, parity=serial.PARITY_NONE, stopbits=serial.STOPBITS_ONE, bytesize=serial.EIGHTBITS)\n",
    "serial_conn.timeout = 1\n",
    "serial_conn.flushInput()\n",
    "\n",
    "# Initialize the pump object.\n",
    "pump = IonPump(serial_connection=serial_conn)\n",
    "\n",
    "# Read functions.\n",
    "read_label_list = [\"Pressure\", \"Label\"]\n",
    "for read_lbl in read_label_list:\n",
    "    answer = pump.read_functions.dic_read_functions[read_lbl]()\n",
    "    print(\"Pump answer: \" + str(answer))\n",
    "\n",
    "# Set functions.\n",
    "set_lbl_dic = {\"V target\": 3000, \"Max power\": 10}\n",
    "for set_lbl in set_lbl_dic:\n",
    "    acknowledgement = pump.set_functions.dic_set_functions[set_lbl](set_lbl_dic[set_lbl])\n",
    "    print(\"Pump answer: \" + str(acknowledgement))\n",
    "\n",
    "# Close serial connection.\n",
    "serial_conn.close()"
   ]
  },
  {
   "cell_type": "markdown",
   "id": "549ac9d7-754a-42d5-8f1e-90d1b026fe09",
   "metadata": {},
   "source": [
    "## For a repeated interrogation of the pump using the handler and threading"
   ]
  },
  {
   "cell_type": "code",
   "execution_count": null,
   "id": "ab71b9fc-9331-459e-bc8e-c62c258e62b4",
   "metadata": {},
   "outputs": [],
   "source": [
    "import threading\n",
    "import time\n",
    "from queue import Queue\n",
    "\n",
    "from pyipcmini import UsbPumpHandler\n",
    "\n",
    "# Dictionary used to initialize some parameters of the pump.\n",
    "# Optional and dangerous if you don't know how the pump works!!!\n",
    "dic_init_param = {\n",
    "    \"Protect\": True,\n",
    "    \"Fixed/step\": False,\n",
    "    \"Autostart\": False,\n",
    "    \"Max power\": 10,\n",
    "    \"I protect\": 1000,\n",
    "    \"Set point\": 1e-08,\n",
    "    \"Label\": \"My pump\",\n",
    "    \"Unit pressure\": 1,\n",
    "    \"Device number\": 5,\n",
    "    \"V target\": 3000,\n",
    "}\n",
    "\n",
    "# Initialize the pump connection handler.\n",
    "PORT = \"/dev/ttyUSB0\"\n",
    "BAUD = 9600\n",
    "serial_conn = UsbPumpHandler(\n",
    "    serial_port=PORT,\n",
    "    baudrate=BAUD,\n",
    "    # init_param = dic_init_param, # Uncomment this line if you want to apply initializations parameters to the pupm.\n",
    "    label=\"My pump\",\n",
    ")\n",
    "\n",
    "# Initialize the thread.\n",
    "UPDATE_TIME = 15.0  # in seconds.\n",
    "pump_readings_values_queue = Queue()\n",
    "pump_commands_values_queue = Queue()\n",
    "thread = threading.Thread(target=serial_conn.thread_loop, args=(pump_readings_values_queue, pump_commands_values_queue, UPDATE_TIME), daemon=True)\n",
    "thread.start()\n",
    "\n",
    "# Measuring loop.\n",
    "try:\n",
    "    LOOP_BOOL = True\n",
    "    while LOOP_BOOL:\n",
    "        if pump_readings_values_queue.qsize() > 0:\n",
    "            pump_measured_pressure, pump_measured_current, pump_measurement_time = pump_readings_values_queue.get()\n",
    "            print(f\"Measurement at time: {pump_measurement_time:f}\")\n",
    "            print(f\"Pressure is {measured_pressure:.2E} mBar and current {measured_current:.2E} A.\")\n",
    "\n",
    "        time.sleep(0.01)\n",
    "except KeyboardInterrupt:\n",
    "    pass\n",
    "finally:\n",
    "    print(\"Program interrupted by user (ctrl+C)\")\n",
    "\n",
    "# Close thread.\n",
    "serial_conn.kill_thread()\n",
    "thread.join()\n",
    "if not thread.is_alive():\n",
    "    print(\"Thread killed\")\n",
    "\n",
    "# Close serial connection.\n",
    "serial_conn.close()"
   ]
  }
 ],
 "metadata": {
  "kernelspec": {
   "display_name": "Python 3 (ipykernel)",
   "language": "python",
   "name": "python3"
  },
  "language_info": {
   "codemirror_mode": {
    "name": "ipython",
    "version": 3
   },
   "file_extension": ".py",
   "mimetype": "text/x-python",
   "name": "python",
   "nbconvert_exporter": "python",
   "pygments_lexer": "ipython3",
   "version": "3.11.5"
  }
 },
 "nbformat": 4,
 "nbformat_minor": 5
}
